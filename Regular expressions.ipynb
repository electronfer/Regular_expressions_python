{
 "cells": [
  {
   "cell_type": "markdown",
   "metadata": {},
   "source": [
    "<h2 style=\"color:#1101dd;\">&#x2705; Importación de módulo </h2>"
   ]
  },
  {
   "cell_type": "code",
   "execution_count": 1,
   "metadata": {},
   "outputs": [],
   "source": [
    "import re"
   ]
  },
  {
   "cell_type": "markdown",
   "metadata": {},
   "source": [
    "<h2 style=\"color:#1f01ee;\">&#x2705; Búsqueda al inicio de la cadena con el carácter <strong style=\"color:red\">^</strong> </h2>"
   ]
  },
  {
   "cell_type": "code",
   "execution_count": 2,
   "metadata": {},
   "outputs": [],
   "source": [
    "texto = 'leccion de python: expresiones regulares para busqueda en texto'\n",
    "\n",
    "patron_busqueda_1 = '^leccion'\n",
    "patron_busqueda_2 = '^python'"
   ]
  },
  {
   "cell_type": "code",
   "execution_count": 3,
   "metadata": {},
   "outputs": [
    {
     "name": "stdout",
     "output_type": "stream",
     "text": [
      "<re.Match object; span=(0, 7), match='leccion'>\n"
     ]
    }
   ],
   "source": [
    "resultado = re.search( patron_busqueda_1, texto )\n",
    "print(resultado)"
   ]
  },
  {
   "cell_type": "code",
   "execution_count": 4,
   "metadata": {},
   "outputs": [
    {
     "name": "stdout",
     "output_type": "stream",
     "text": [
      "None\n"
     ]
    }
   ],
   "source": [
    "resultado = re.search( patron_busqueda_2, texto )\n",
    "print(resultado)"
   ]
  },
  {
   "cell_type": "markdown",
   "metadata": {},
   "source": [
    "<h2 style=\"color:#1f01ee;\">&#x2705; Búsqueda al final de la cadena con el carácter <strong style=\"color:red\">$</strong> </h2>"
   ]
  },
  {
   "cell_type": "code",
   "execution_count": 5,
   "metadata": {},
   "outputs": [],
   "source": [
    "texto = 'leccion de python: expresiones regulares para busqueda en texto'\n",
    "\n",
    "patron_busqueda_1 = 'texto$'\n",
    "patron_busqueda_2 = 'python$'"
   ]
  },
  {
   "cell_type": "code",
   "execution_count": 6,
   "metadata": {},
   "outputs": [
    {
     "name": "stdout",
     "output_type": "stream",
     "text": [
      "<re.Match object; span=(58, 63), match='texto'>\n"
     ]
    }
   ],
   "source": [
    "resultado = re.search( patron_busqueda_1, texto )\n",
    "print(resultado)"
   ]
  },
  {
   "cell_type": "code",
   "execution_count": 7,
   "metadata": {},
   "outputs": [
    {
     "name": "stdout",
     "output_type": "stream",
     "text": [
      "None\n"
     ]
    }
   ],
   "source": [
    "resultado = re.search( patron_busqueda_2, texto )\n",
    "print(resultado)"
   ]
  },
  {
   "cell_type": "markdown",
   "metadata": {},
   "source": [
    "<h2 style=\"color:#1f01ee;\">&#x2705; Uso de cuantificadores <strong style=\"color:red\">? + *</strong> </h2>"
   ]
  },
  {
   "cell_type": "markdown",
   "metadata": {},
   "source": [
    "<h2 style=\"color:#1f01ee;\"> <span style=\"color:#0f010e;\">$\\rightarrow$</span> Con el carácter <strong style=\"color:red\">?</strong> podremos buscar en una cadena considerando como <u>opcional (0 o 1 ocurrencia)</u> la expresión que precede el cuantificador, veamos algunos ejemplos </h2>"
   ]
  },
  {
   "cell_type": "code",
   "execution_count": 8,
   "metadata": {},
   "outputs": [],
   "source": [
    "patron_sin_cuantificador = 'python3'\n",
    "patron_con_cuantificador = 'python3?'\n",
    "\n",
    "texto = 'leccion de python expresiones regulares para busqueda en texto'"
   ]
  },
  {
   "cell_type": "code",
   "execution_count": 9,
   "metadata": {},
   "outputs": [
    {
     "name": "stdout",
     "output_type": "stream",
     "text": [
      "None\n"
     ]
    }
   ],
   "source": [
    "resultado = re.search( patron_sin_cuantificador, texto )\n",
    "print(resultado)"
   ]
  },
  {
   "cell_type": "code",
   "execution_count": 10,
   "metadata": {},
   "outputs": [
    {
     "name": "stdout",
     "output_type": "stream",
     "text": [
      "<re.Match object; span=(11, 17), match='python'>\n"
     ]
    }
   ],
   "source": [
    "resultado = re.search( patron_con_cuantificador, texto )\n",
    "print(resultado)"
   ]
  },
  {
   "cell_type": "markdown",
   "metadata": {},
   "source": [
    "<h2 style=\"color:#1f01ee;\"> <span style=\"color:#0f010e;\">$\\rightarrow$</span> Con el carácter <strong style=\"color:red\">+</strong> podremos buscar en una cadena considerando que debe aparecer <u>una o más veces</u> la expresión que precede el cuantificador, veamos algunos ejemplos </h2>"
   ]
  },
  {
   "cell_type": "code",
   "execution_count": 11,
   "metadata": {},
   "outputs": [],
   "source": [
    "# Vamos a buscar que el número 3 aparezca 1 o más veces en el texto\n",
    "patron_sin_cuantificador = 'a,-b,c'\n",
    "patron_con_cuantificador = 'a,[-b]+, c'\n",
    "\n",
    "texto = 'a,-b-b-b, c'"
   ]
  },
  {
   "cell_type": "code",
   "execution_count": 12,
   "metadata": {},
   "outputs": [
    {
     "name": "stdout",
     "output_type": "stream",
     "text": [
      "None\n"
     ]
    }
   ],
   "source": [
    "resultado = re.search( patron_sin_cuantificador, texto )\n",
    "print(resultado)"
   ]
  },
  {
   "cell_type": "code",
   "execution_count": 13,
   "metadata": {},
   "outputs": [
    {
     "name": "stdout",
     "output_type": "stream",
     "text": [
      "<re.Match object; span=(0, 11), match='a,-b-b-b, c'>\n"
     ]
    }
   ],
   "source": [
    "resultado = re.search( patron_con_cuantificador, texto )\n",
    "print(resultado)"
   ]
  },
  {
   "cell_type": "markdown",
   "metadata": {},
   "source": [
    "<h2 style=\"color:#1f01ee;\"> <span style=\"color:#0f010e;\">$\\rightarrow$</span> Con el carácter <strong style=\"color:red\">*</strong> podremos buscar en una cadena considerando que debe aparecer <u>cero o más veces</u> la expresión que precede el cuantificador, veamos algunos ejemplos </h2>"
   ]
  },
  {
   "cell_type": "code",
   "execution_count": 14,
   "metadata": {},
   "outputs": [],
   "source": [
    "# Vamos a buscar que el número 3 aparezca 1 o más veces en el texto\n",
    "patron_sin_cuantificador = 'a,c,b'\n",
    "patron_con_cuantificador = 'a,c*b'\n",
    "\n",
    "texto = 'a,bbx'"
   ]
  },
  {
   "cell_type": "code",
   "execution_count": 15,
   "metadata": {},
   "outputs": [
    {
     "name": "stdout",
     "output_type": "stream",
     "text": [
      "None\n"
     ]
    }
   ],
   "source": [
    "resultado = re.search( patron_sin_cuantificador, texto )\n",
    "print(resultado)"
   ]
  },
  {
   "cell_type": "code",
   "execution_count": 16,
   "metadata": {},
   "outputs": [
    {
     "name": "stdout",
     "output_type": "stream",
     "text": [
      "<re.Match object; span=(0, 3), match='a,b'>\n"
     ]
    }
   ],
   "source": [
    "resultado = re.search( patron_con_cuantificador, texto )\n",
    "print(resultado)"
   ]
  },
  {
   "cell_type": "markdown",
   "metadata": {},
   "source": [
    "<h2 style=\"color:#1f01ee;\">&#x2705; Los corchetes <strong style=\"color:red\">[ ]</strong> se usan para agrupar por rango de posibles opciones en la expresión regular, por ejemplo los números del 0 al 9 o solo identificar las vocales, etc. Veamos algunos ejemplos</h2>"
   ]
  },
  {
   "cell_type": "markdown",
   "metadata": {},
   "source": [
    "<h2 style=\"color:#1f01ee;\"><span style=\"color:#0f010e;\">$\\rightarrow$</span><span style=\"color:#5f011e;\"> Ejemplo 1: </span> Vamos a identificar si en el texto hay una palabra que empiece por c y que el segundo y tercer caracter solo sean vocales </h2>"
   ]
  },
  {
   "cell_type": "code",
   "execution_count": 17,
   "metadata": {},
   "outputs": [],
   "source": [
    "patron_1 = '[aeiou][aeiou]'"
   ]
  },
  {
   "cell_type": "code",
   "execution_count": 18,
   "metadata": {},
   "outputs": [
    {
     "name": "stdout",
     "output_type": "stream",
     "text": [
      "<re.Match object; span=(1, 3), match='ue'>\n"
     ]
    }
   ],
   "source": [
    "texto_1 = 'cuerpo de bomberos'\n",
    "resultado = re.search( patron_1, texto_1 )\n",
    "print(resultado)"
   ]
  },
  {
   "cell_type": "code",
   "execution_count": 19,
   "metadata": {},
   "outputs": [
    {
     "name": "stdout",
     "output_type": "stream",
     "text": [
      "None\n"
     ]
    }
   ],
   "source": [
    "texto_2 = 'casa de campo'\n",
    "resultado = re.search( patron_1, texto_2 )\n",
    "print(resultado)"
   ]
  },
  {
   "cell_type": "markdown",
   "metadata": {},
   "source": [
    "<h2 style=\"color:#1f01ee;\"><span style=\"color:#0f010e;\">$\\rightarrow$</span><span style=\"color:#5f011e;\"> Ejemplo 2: </span> Vamos a identificar si en el texto aparecen solo un rango entre 00 y 59 minutos, que es el formato de tiempo válido </h2>"
   ]
  },
  {
   "cell_type": "code",
   "execution_count": 20,
   "metadata": {},
   "outputs": [],
   "source": [
    "patron_hora = '[0-5][0-9]'"
   ]
  },
  {
   "cell_type": "code",
   "execution_count": 21,
   "metadata": {},
   "outputs": [
    {
     "name": "stdout",
     "output_type": "stream",
     "text": [
      "<re.Match object; span=(11, 13), match='57'>\n"
     ]
    }
   ],
   "source": [
    "texto_1 = 'Han pasado 57 minutos'\n",
    "resultado = re.search( patron_hora, texto_1 )\n",
    "print(resultado)"
   ]
  },
  {
   "cell_type": "code",
   "execution_count": 22,
   "metadata": {},
   "outputs": [
    {
     "name": "stdout",
     "output_type": "stream",
     "text": [
      "None\n"
     ]
    }
   ],
   "source": [
    "texto_2 = 'Han pasado 77 minutos'\n",
    "resultado = re.search( patron_hora, texto_2 )\n",
    "print(resultado)"
   ]
  },
  {
   "cell_type": "markdown",
   "metadata": {},
   "source": [
    "<h2 style=\"color:#1f01ee;\"><span style=\"color:#0f010e;\">$\\rightarrow$</span><span style=\"color:#5f011e;\"> Ejemplo 3: </span> Si queremos omitir un rango de caracteres, debemos agregar el carácter ^ dentro de los corchetes como lo veremos a continuación en donde buscaremos si el texto inicia solo por letras mayúsculas </h2>"
   ]
  },
  {
   "cell_type": "code",
   "execution_count": 23,
   "metadata": {},
   "outputs": [],
   "source": [
    "patron_excluyente = '^[^a-z]'"
   ]
  },
  {
   "cell_type": "code",
   "execution_count": 24,
   "metadata": {},
   "outputs": [
    {
     "name": "stdout",
     "output_type": "stream",
     "text": [
      "None\n"
     ]
    }
   ],
   "source": [
    "texto_1 = 'inicio de texto'\n",
    "resultado = re.search( patron_excluyente, texto_1 )\n",
    "print(resultado)"
   ]
  },
  {
   "cell_type": "code",
   "execution_count": 25,
   "metadata": {},
   "outputs": [
    {
     "name": "stdout",
     "output_type": "stream",
     "text": [
      "<re.Match object; span=(0, 1), match='I'>\n"
     ]
    }
   ],
   "source": [
    "texto_2 = 'Inicio de texto'\n",
    "resultado = re.search( patron_excluyente, texto_2 )\n",
    "print(resultado)"
   ]
  },
  {
   "cell_type": "markdown",
   "metadata": {},
   "source": [
    "<h2 style=\"color:#1f01ee;\"> &#x2705; Secuencias especiales </h2>\n",
    "<h3> <strong style=\"color:red;\">\\d</strong> $\\equiv$ [ 0-9 ]</h3>\n",
    "<h3> <strong style=\"color:red;\">\\w</strong> $\\equiv$ [ a-zA-Z0-9_ ]</h3>"
   ]
  },
  {
   "cell_type": "markdown",
   "metadata": {},
   "source": [
    "<h2 style=\"color:#1f01ee;\"><span style=\"color:#0f010e;\">$\\rightarrow$</span><span style=\"color:#5f011e;\"> Ejemplo 1: </span> Buscaremos la ocurrencia de un dígito en la cadena </h2>"
   ]
  },
  {
   "cell_type": "code",
   "execution_count": 26,
   "metadata": {},
   "outputs": [],
   "source": [
    "patron = '\\d'"
   ]
  },
  {
   "cell_type": "code",
   "execution_count": 27,
   "metadata": {},
   "outputs": [
    {
     "name": "stdout",
     "output_type": "stream",
     "text": [
      "None\n"
     ]
    }
   ],
   "source": [
    "texto_1 = 'Estamos trabajando con python'\n",
    "resultado = re.search( patron, texto_1 )\n",
    "print(resultado)"
   ]
  },
  {
   "cell_type": "code",
   "execution_count": 28,
   "metadata": {},
   "outputs": [
    {
     "name": "stdout",
     "output_type": "stream",
     "text": [
      "<re.Match object; span=(30, 31), match='3'>\n"
     ]
    }
   ],
   "source": [
    "texto_1 = 'Estamos trabajando con python 3'\n",
    "resultado = re.search( patron, texto_1 )\n",
    "print(resultado)"
   ]
  },
  {
   "cell_type": "markdown",
   "metadata": {},
   "source": [
    "<h2 style=\"color:#1f01ee;\"> &#x2705; Ejercicio 1 de aplicación: Validador de contraseñas </h2>\n",
    "<h3 style=\"color:#1f01ee;\"> Condiciones <span style=\"color:#111122\">$\\rightarrow$</span>Tener <u>al menos 8</u> carácteres de longitud, puede contener letras mayúsculas, minúsculas, dígitos o los carácteres epsciales <strong style=\"color:red;\">@#$%^&+=</strong></h3>"
   ]
  },
  {
   "cell_type": "code",
   "execution_count": 29,
   "metadata": {},
   "outputs": [],
   "source": [
    "regexp = '[a-zA-Z0-9@#$%^&+=]{8,}'"
   ]
  },
  {
   "cell_type": "code",
   "execution_count": 30,
   "metadata": {},
   "outputs": [],
   "source": [
    "texto = 'hey123451212'"
   ]
  },
  {
   "cell_type": "code",
   "execution_count": 31,
   "metadata": {},
   "outputs": [
    {
     "name": "stdout",
     "output_type": "stream",
     "text": [
      "<re.Match object; span=(0, 12), match='hey123451212'>\n"
     ]
    }
   ],
   "source": [
    "resultado = re.fullmatch( regexp, texto)\n",
    "print(resultado)"
   ]
  },
  {
   "cell_type": "markdown",
   "metadata": {},
   "source": [
    "<h2 style=\"color:#1f01ee;\"> &#x2705; Ejercicio 2 de aplicación: Validador de contraseñas </h2>\n",
    "<h3 style=\"color:#1f01ee;\"> <span style=\"color:#111122\">$\\rightarrow$</span>Tener <u>al menos 8</u> carácteres de longitud.</h3>\n",
    "<h3 style=\"color:#1f01ee;\"> <span style=\"color:#111122\">$\\rightarrow$</span>Tener <u>al menos una</u> letra mayúscula.</h3>\n",
    "<h3 style=\"color:#1f01ee;\"> <span style=\"color:#111122\">$\\rightarrow$</span>Tener <u>al menos una</u> letra minúscula.</h3>\n",
    "<h3 style=\"color:#1f01ee;\"> <span style=\"color:#111122\">$\\rightarrow$</span>Tener <u>al menos un</u> dígito.</h3>"
   ]
  },
  {
   "cell_type": "code",
   "execution_count": 32,
   "metadata": {},
   "outputs": [],
   "source": [
    "regex = '(?=.*[a-z])(?=.*[A-Z])(?=.*[0-9])(?=.*[a-zA-Z0-9]{8,})'"
   ]
  },
  {
   "cell_type": "code",
   "execution_count": 33,
   "metadata": {},
   "outputs": [],
   "source": [
    "texto = 'h1Ab2Bc3'"
   ]
  },
  {
   "cell_type": "code",
   "execution_count": 34,
   "metadata": {},
   "outputs": [
    {
     "name": "stdout",
     "output_type": "stream",
     "text": [
      "<re.Match object; span=(0, 0), match=''>\n"
     ]
    }
   ],
   "source": [
    "resultado = re.search(regex, texto )\n",
    "print(resultado)"
   ]
  },
  {
   "cell_type": "markdown",
   "metadata": {},
   "source": [
    "<h2 style=\"color:#1f01ee;\"> &#x2705; Ejercicios de práctica </h2>"
   ]
  },
  {
   "cell_type": "markdown",
   "metadata": {},
   "source": [
    "<h2 style=\"color:#1f01ee;\"><span style=\"color:#0f010e;\">$\\rightarrow$</span><span style=\"color:#5f011e;\"> Ejemplo 1: </span> Validar el tiempo con formato de 24 horas: </h2>"
   ]
  },
  {
   "cell_type": "code",
   "execution_count": 35,
   "metadata": {},
   "outputs": [
    {
     "name": "stdout",
     "output_type": "stream",
     "text": [
      "05:59\n"
     ]
    }
   ],
   "source": [
    "regex = '([01][0-9]|2[0-3]):([0-5][0-9])'\n",
    "\n",
    "hour = '05:59'\n",
    "\n",
    "resultado = re.search(regex, hour )\n",
    "\n",
    "print( resultado.group() )"
   ]
  },
  {
   "cell_type": "markdown",
   "metadata": {},
   "source": [
    "<h2 style=\"color:#1f01ee;\"><span style=\"color:#0f010e;\">$\\rightarrow$</span><span style=\"color:#5f011e;\"> Ejemplo 2: </span> Validar el correo electrónico: </h2>"
   ]
  },
  {
   "cell_type": "code",
   "execution_count": 36,
   "metadata": {},
   "outputs": [
    {
     "data": {
      "text/plain": [
       "<re.Match object; span=(0, 24), match='course.regex@example.com'>"
      ]
     },
     "execution_count": 36,
     "metadata": {},
     "output_type": "execute_result"
    }
   ],
   "source": [
    "regex = '^(\\w|\\.|\\_|\\-)+[@]\\w+[.]\\w{2,3}$'\n",
    "correo = 'course.regex@example.com' \n",
    "\n",
    "re.fullmatch( regex, correo )"
   ]
  },
  {
   "cell_type": "markdown",
   "metadata": {},
   "source": [
    "<h2 style=\"color:#1f01ee;\"><span style=\"color:#0f010e;\">$\\rightarrow$</span><span style=\"color:#5f011e;\"> Ejemplo 3: </span> Validar el nombre de usuario: </h2>"
   ]
  },
  {
   "cell_type": "code",
   "execution_count": 37,
   "metadata": {},
   "outputs": [
    {
     "name": "stdout",
     "output_type": "stream",
     "text": [
      "<re.Match object; span=(0, 14), match='user_1.course2'>\n"
     ]
    }
   ],
   "source": [
    "regex = '^[\\w.]{8,}$'\n",
    "usuario = 'user_1.course2' \n",
    "\n",
    "resultado = re.fullmatch( regex, usuario )\n",
    "print(resultado)"
   ]
  },
  {
   "cell_type": "markdown",
   "metadata": {},
   "source": [
    "<h2 style=\"color:#1f01ee;\"><span style=\"color:#0f010e;\">$\\rightarrow$</span><span style=\"color:#5f011e;\"> Ejemplo 4: </span> Acotar la busqueda para encontrar todas las ocurrencias del patrón: </h2>"
   ]
  },
  {
   "cell_type": "markdown",
   "metadata": {},
   "source": [
    "<h3 style=\"color:#1f01ee;\"><span style=\"color:#0f010e;\">$\\rightarrow$</span><span style=\"color:#1b1def;\"> Greedy </span> </h3>"
   ]
  },
  {
   "cell_type": "code",
   "execution_count": 38,
   "metadata": {},
   "outputs": [
    {
     "name": "stdout",
     "output_type": "stream",
     "text": [
      "['Tanto los patrones como las cadenas de texto a buscar pueden ser cadenas de Unicode así como']\n"
     ]
    }
   ],
   "source": [
    "regex = '[tT].*o'\n",
    "\n",
    "texto = \"Tanto los patrones como las cadenas de texto a buscar pueden ser cadenas de Unicode así como cadenas de 8 bits\"\n",
    "\n",
    "resultado = re.findall( regex, texto )\n",
    "print(resultado)"
   ]
  },
  {
   "cell_type": "markdown",
   "metadata": {},
   "source": [
    "<h3 style=\"color:#1f01ee;\"><span style=\"color:#0f010e;\">$\\rightarrow$</span><span style=\"color:#1b1def;\"> Non-Greedy </span> </h3>"
   ]
  },
  {
   "cell_type": "code",
   "execution_count": 39,
   "metadata": {},
   "outputs": [
    {
     "name": "stdout",
     "output_type": "stream",
     "text": [
      "['Tanto', 'tro', 'texto']\n"
     ]
    }
   ],
   "source": [
    "regex = '[tT].*?o'\n",
    "\n",
    "texto = \"Tanto los patrones como las cadenas de texto a buscar pueden ser cadenas de Unicode así como cadenas de 8 bits\"\n",
    "\n",
    "resultado = re.findall( regex, texto )\n",
    "print(resultado)"
   ]
  },
  {
   "cell_type": "markdown",
   "metadata": {},
   "source": [
    "<h2 style=\"color:#1f01ee;\"><span style=\"color:#0f010e;\">$\\rightarrow$</span><span style=\"color:#5f011e;\"> Ejemplo 5: </span> Buscar la coincidencia en un texto que inicie con <strong style=\"color: red;\"><u>Tanto</u></strong> y que termine con <strong  style=\"color: red;\"><u>cadenas</u></strong> pero que los caracteres en medio no sean más de <strong style=\"color: red;\">30</strong>: </h2>"
   ]
  },
  {
   "cell_type": "code",
   "execution_count": 40,
   "metadata": {},
   "outputs": [
    {
     "name": "stdout",
     "output_type": "stream",
     "text": [
      "<re.Match object; span=(0, 35), match='Tanto los patrones como las cadenas'>\n"
     ]
    }
   ],
   "source": [
    "regex = \"^Tanto(.{1,30})cadenas\"\n",
    "\n",
    "texto = \"Tanto los patrones como las cadenas de texto a buscar pueden ser cadenas de Unicode así como cadenas de 8 bits\"\n",
    "\n",
    "resultado = re.match( regex, texto )\n",
    "print(resultado)"
   ]
  },
  {
   "cell_type": "markdown",
   "metadata": {},
   "source": [
    "<h2 style=\"color:#1f01ee;\"><span style=\"color:#0f010e;\">$\\rightarrow$</span><span style=\"color:#5f011e;\"> Ejemplo 6: </span> Buscar todas las ocurrencias en un texto donde se refiera a dinero, por ejemplo: \\$1.25, \\$1475.5</h2>"
   ]
  },
  {
   "cell_type": "code",
   "execution_count": 41,
   "metadata": {},
   "outputs": [
    {
     "name": "stdout",
     "output_type": "stream",
     "text": [
      "['$125.5', '$12.55', '$138.05']\n"
     ]
    }
   ],
   "source": [
    "regex = \"(\\$\\d+.*?\\.\\d*)\"\n",
    "texto= \"Invertir $125.5 con interés del 10% E.A. generará una ganancia de $12.55, por lo que al final del año tendremos $138.05\"\n",
    "\n",
    "resultado = re.findall( regex, texto )\n",
    "print(resultado)"
   ]
  },
  {
   "cell_type": "markdown",
   "metadata": {},
   "source": [
    "<h2 style=\"color:#1f01ee;\"><span style=\"color:#0f010e;\">$\\rightarrow$</span><span style=\"color:#5f011e;\"> Ejemplo 7: </span> Para este caso veremos como reemplazar texto de manera condicional. Si encontramos una expresión de suma 4+4 = 8, tomaremos el <strong style=\"color:red;\">=</strong> y lo cambiaremos por la expresión <strong style=\"color:red;\">igual a</strong></h2>"
   ]
  },
  {
   "cell_type": "code",
   "execution_count": 42,
   "metadata": {},
   "outputs": [
    {
     "name": "stdout",
     "output_type": "stream",
     "text": [
      "Sabemos que 2 + 2 es igual a 4, pero también 2 * 2 es igual a 4, y así mismo 2 ^ 2 es igual a 4. Tenemos el mismo resultado con 3 operaciones\n"
     ]
    }
   ],
   "source": [
    "regex = \"(\\=)\"\n",
    "texto= \"Sabemos que 2 + 2 = 4, pero también 2 * 2 = 4, y así mismo 2 ^ 2 = 4. Tenemos el mismo resultado con 3 operaciones\"\n",
    "\n",
    "resultado = re.sub( regex, 'es igual a', texto )\n",
    "print(resultado)"
   ]
  }
 ],
 "metadata": {
  "kernelspec": {
   "display_name": "Python 3",
   "language": "python",
   "name": "python3"
  },
  "language_info": {
   "codemirror_mode": {
    "name": "ipython",
    "version": 3
   },
   "file_extension": ".py",
   "mimetype": "text/x-python",
   "name": "python",
   "nbconvert_exporter": "python",
   "pygments_lexer": "ipython3",
   "version": "3.8.5"
  }
 },
 "nbformat": 4,
 "nbformat_minor": 4
}
